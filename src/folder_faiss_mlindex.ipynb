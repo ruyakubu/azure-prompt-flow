{
 "cells": [
  {
   "cell_type": "code",
   "execution_count": 1,
   "metadata": {},
   "outputs": [],
   "source": [
    "#%pip install azure-ai-ml\n",
    "#%pip install -U 'azureml-rag[faiss]>=0.1.11'\n",
    "# If using hugging_face embeddings add `hugging_face` extra, e.g. `azureml-rag[faiss,hugging_face]`"
   ]
  },
  {
   "attachments": {},
   "cell_type": "markdown",
   "metadata": {},
   "source": [
    "# Create a FAISS based Vector Index for Document Retrieval with AzureML\n",
    "\n",
    "We'll walk through setting up an AzureML Pipeline which pulls a Git Repo, processes the data into chunks, embeds the chunks, and creates a LangChain-compatible FAISS Vector Index."
   ]
  },
  {
   "attachments": {},
   "cell_type": "markdown",
   "metadata": {},
   "source": [
    "## Get client for AzureML Workspace\n",
    "\n",
    "The workspace is the top-level resource for Azure Machine Learning, providing a centralized place to work with all the artifacts you create when you use Azure Machine Learning. In this section we will connect to the workspace in which the job will be run.\n",
    "\n",
    "If you don't have a Workspace and want to create and Index locally see [here to create one](https://learn.microsoft.com/azure/machine-learning/quickstart-create-resources?view=azureml-api-2).\n",
    "\n",
    "Enter your Workspace details below, running this still will write a `workspace.json` file to the current folder."
   ]
  },
  {
   "cell_type": "code",
   "execution_count": 2,
   "metadata": {},
   "outputs": [
    {
     "name": "stdout",
     "output_type": "stream",
     "text": [
      "Overwriting workspace.json\n"
     ]
    }
   ],
   "source": [
    "%%writefile workspace.json\n",
    "{\n",
    "    \"subscription_id\": \"<subscription_id>\",\n",
    "    \"resource_group\": \"<resource_group_name>\",\n",
    "    \"workspace_name\": \"<workspace_name>\"\n",
    "}"
   ]
  },
  {
   "cell_type": "markdown",
   "metadata": {},
   "source": [
    "`MLClient` is how you interact with AzureML"
   ]
  },
  {
   "cell_type": "code",
   "execution_count": 3,
   "metadata": {},
   "outputs": [
    {
     "name": "stderr",
     "output_type": "stream",
     "text": [
      "Found the config file in: .\\config.json\n",
      "Warning: Falling back to use azure cli login credentials.\n",
      "If you run your code in unattended mode, i.e., where you can't give a user input, then we recommend to use ServicePrincipalAuthentication or MsiAuthentication.\n",
      "Please refer to aka.ms/aml-notebook-auth for different authentication mechanisms in azureml-sdk.\n"
     ]
    },
    {
     "name": "stdout",
     "output_type": "stream",
     "text": [
      "MLClient(credential=<azure.identity._credentials.default.DefaultAzureCredential object at 0x00000236D1847B80>,\n",
      "         subscription_id=8a0f6419-1f4c-45b3-8d92-ee53be1ea443,\n",
      "         resource_group_name=demoRG,\n",
      "         workspace_name=aml-ws)\n"
     ]
    }
   ],
   "source": [
    "from azure.identity import DefaultAzureCredential, InteractiveBrowserCredential\n",
    "from azure.ai.ml import MLClient\n",
    "from azureml.core import Workspace\n",
    "from azure.ai.ml import MLClient\n",
    "from azure.identity import DefaultAzureCredential\n",
    "\n",
    "credential = DefaultAzureCredential()\n",
    "ml_client = MLClient.from_config(credential=credential)\n",
    "\n",
    "ws = Workspace(\n",
    "    subscription_id=ml_client.subscription_id,\n",
    "    resource_group=ml_client.resource_group_name,\n",
    "    workspace_name=ml_client.workspace_name,\n",
    ")\n",
    "print(ml_client)"
   ]
  },
  {
   "attachments": {},
   "cell_type": "markdown",
   "metadata": {},
   "source": [
    "## Which Datasource?\n",
    "\n",
    "For demo purposes a public repo is being used, though we've included steps at the end of the notebook to use username + password for a private repository (the secrets are stored in an Azure KeyVault and only access at Runtime on the Compute doing the git clone).\n"
   ]
  },
  {
   "cell_type": "code",
   "execution_count": 4,
   "metadata": {},
   "outputs": [],
   "source": [
    "#git_url = \"https://github.com/rust-lang/book.git\"\n",
    "local_path = \"../data/contoso-dental.xls\""
   ]
  },
  {
   "cell_type": "code",
   "execution_count": 5,
   "metadata": {},
   "outputs": [
    {
     "data": {
      "text/plain": [
       "Data({'skip_validation': False, 'mltable_schema_url': None, 'referenced_uris': None, 'type': 'uri_file', 'is_anonymous': False, 'auto_increment_version': False, 'auto_delete_setting': None, 'name': 'contoso-dental-clinic', 'description': 'Dental Clinic data', 'tags': {}, 'properties': {}, 'print_as_yaml': True, 'id': '/subscriptions/8a0f6419-1f4c-45b3-8d92-ee53be1ea443/resourceGroups/demoRG/providers/Microsoft.MachineLearningServices/workspaces/aml-ws/data/contoso-dental-clinic/versions/47', 'Resource__source_path': None, 'base_path': 'c:\\\\Users\\\\ruyakubu\\\\temp\\\\test-pf-vscode\\\\askChat\\\\src', 'creation_context': <azure.ai.ml.entities._system_data.SystemData object at 0x00000236DB5F6E20>, 'serialize': <msrest.serialization.Serializer object at 0x00000236DB5F6F40>, 'version': '47', 'latest_version': None, 'path': 'azureml://subscriptions/8a0f6419-1f4c-45b3-8d92-ee53be1ea443/resourcegroups/demoRG/workspaces/aml-ws/datastores/workspaceblobstore/paths/LocalUpload/6516c59437bcbd1c72edb15af13f23e2/contoso-dental.xls', 'datastore': None})"
      ]
     },
     "execution_count": 5,
     "metadata": {},
     "output_type": "execute_result"
    }
   ],
   "source": [
    "from azure.ai.ml.entities import Data\n",
    "from azure.ai.ml.constants import AssetTypes\n",
    "\n",
    "v1=\"initial\"\n",
    "\n",
    "my_data = Data(\n",
    "    name=\"contoso-dental-clinic\",\n",
    "    description=\"Dental Clinic data\",\n",
    "    path=local_path,\n",
    "    type=AssetTypes.URI_FILE,\n",
    ")\n",
    "\n",
    "ml_client.data.create_or_update(my_data)"
   ]
  },
  {
   "attachments": {},
   "cell_type": "markdown",
   "metadata": {},
   "source": [
    "## Which Embeddings Model to use?\n",
    "\n",
    "There are currently two supported Embedding options: OpenAI's `text-embedding-ada-002` embedding model or HuggingFace embedding models. Here are some factors that might influence your decision:\n",
    "\n",
    "### OpenAI\n",
    "\n",
    "OpenAI has [great documentation](https://platform.openai.com/docs/guides/embeddings) on their Embeddings model `text-embedding-ada-002`, it can handle up to 8191 tokens and can be accessed using [Azure OpenAI](https://learn.microsoft.com/azure/cognitive-services/openai/concepts/models#embeddings-models) or OpenAI directly.\n",
    "If you have an existing Azure OpenAI Instance you can connect it to AzureML, if you don't AzureML provisions a default one for you called `Default_AzureOpenAI`.\n",
    "The main limitation when using `text-embedding-ada-002` is cost/quota available for the model. Otherwise it provides high quality embeddings across a wide array of text domains while being simple to use.\n",
    "\n",
    "### HuggingFace\n",
    "\n",
    "HuggingFace hosts many different models capable of embedding text into single-dimensional vectors. The [MTEB Leaderboard](https://huggingface.co/spaces/mteb/leaderboard) ranks the performance of embeddings models on a few axis, not all models ranked can be run locally (e.g. `text-embedding-ada-002` is on the list), though many can and there is a range of larger and smaller models. When embedding with HuggingFace the model is loaded locally for inference, this will potentially impact your choice of compute resources.\n",
    "\n",
    "**NOTE:** The default PromptFlow Runtime does not come with HuggingFace model dependencies installed, Indexes created using HuggingFace embeddings will not work in PromptFlow by default. **Pick OpenAI if you want to use PromptFlow**"
   ]
  },
  {
   "cell_type": "markdown",
   "metadata": {},
   "source": [
    "### Run the cells under _either_ heading (OpenAI or HuggingFace) to use the respective embedding model"
   ]
  },
  {
   "cell_type": "markdown",
   "metadata": {},
   "source": [
    "#### OpenAI\n",
    "\n",
    "We can use the automatically created `Default_AzureOpenAI` connection.\n",
    "\n",
    "If you would rather use an existing Azure OpenAI connection then change `aoai_connection_name` below.\n",
    "If you would rather use an existing Azure OpenAI resource, but don't have a connection created, modify `aoai_connection_name` and the details under the `# Create New Connection` code comment, or navigate the PromptFlow section in your AzureML Workspace and use the Connections create UI flow."
   ]
  },
  {
   "cell_type": "code",
   "execution_count": 6,
   "metadata": {},
   "outputs": [],
   "source": [
    "aoai_connection_name = \"AzureOpenAI-srv\"\n",
    "#aoai_connection_name = \"gpt-35-turbo-dply\"\n",
    "aoai_connection_id = None"
   ]
  },
  {
   "cell_type": "markdown",
   "metadata": {},
   "source": []
  },
  {
   "cell_type": "code",
   "execution_count": 7,
   "metadata": {},
   "outputs": [
    {
     "name": "stdout",
     "output_type": "stream",
     "text": [
      "/subscriptions/8a0f6419-1f4c-45b3-8d92-ee53be1ea443/resourceGroups/demoRG/providers/Microsoft.MachineLearningServices/workspaces/aml-ws/connections/AzureOpenAI-srv\n"
     ]
    }
   ],
   "source": [
    "from azureml.rag.utils.connections import (\n",
    "    get_connection_by_name_v2,\n",
    "    create_connection_v2,\n",
    ")\n",
    "\n",
    "try:\n",
    "    aoai_connection = get_connection_by_name_v2(ws, aoai_connection_name)\n",
    "except Exception as ex:\n",
    "    # Create New Connection\n",
    "    # Modify the details below to match the `Endpoint` and API key of your AOAI resource, these details can be found in Azure Portal\n",
    "\n",
    "    target = \"https://aoai-openai-ws-srv.openai.azure.com/\"  # example: 'https://<endpoint>.openai.azure.com/'\n",
    "    key = \"2531f2e2ccb646d591b6f2216f34ff5a\"\n",
    "    apiVersion = \"2023-10-01-preview\"\n",
    "\n",
    "    aoai_connection_id = create_connection_v2(\n",
    "        workspace=ws,\n",
    "        name=aoai_connection_name,\n",
    "        category=\"AzureOpenAI\",\n",
    "        target=target,\n",
    "        auth_type=\"ApiKey\",\n",
    "        credentials={\"key\": key},\n",
    "        metadata={\"ApiType\": \"azure\", \"ApiVersion\": apiVersion},\n",
    "    )[\"id\"]\n",
    "\n",
    "aoai_connection_id = aoai_connection[\"id\"]\n",
    "print(aoai_connection_id)"
   ]
  },
  {
   "cell_type": "markdown",
   "metadata": {},
   "source": [
    "Now that your Workspace has a connection to Azure OpenAI we will make sure the `text-embedding-ada-002` model has been deployed ready for inference. This cell will fail if there is not deployment for the embeddings model, [follow these instructions](https://learn.microsoft.com/azure/cognitive-services/openai/how-to/create-resource?pivots=web-portal#deploy-a-model) to deploy a model with Azure OpenAI."
   ]
  },
  {
   "cell_type": "code",
   "execution_count": 8,
   "metadata": {},
   "outputs": [
    {
     "name": "stdout",
     "output_type": "stream",
     "text": [
      "Please create a deployment for this model by following the deploy instructions on the resource page for 'https://aoai-openai-ws-srv.openai.azure.com/' in Azure Portal.\n",
      "Please create a deployment for this model by following the deploy instructions on the resource page for 'https://aoai-openai-ws-srv.openai.azure.com/' in Azure Portal.\n"
     ]
    }
   ],
   "source": [
    "from azureml.rag.utils.deployment import infer_deployment\n",
    "\n",
    "aoai_embedding_model_name = \"text-embedding-ada-002-dply\"\n",
    "\n",
    "\n",
    "try:\n",
    "    aoai_embedding_deployment_name = infer_deployment(\n",
    "        aoai_connection, aoai_embedding_model_name\n",
    "    )\n",
    "    print(\n",
    "        f\"Deployment name in AOAI workspace for model '{aoai_embedding_model_name}' is '{aoai_embedding_deployment_name}'\"\n",
    "    )\n",
    "except Exception as e:\n",
    "    print(\n",
    "        f\"Please create a deployment for this model by following the deploy instructions on the resource page for '{aoai_connection['properties']['target']}' in Azure Portal.\"\n",
    "    )\n",
    "    if \"ResourceId\" in aoai_connection[\"properties\"][\"metadata\"]:\n",
    "        aoai_resource_url = f\"https://portal.azure.com/resource/{aoai_connection['properties']['metadata']['ResourceId']}/overview\"\n",
    "        print(\n",
    "            f\"Please create a deployment for this model by following the deploy instructions on the resource page: {aoai_resource_url}\"\n",
    "        )\n",
    "    else:\n",
    "        print(\n",
    "            f\"Please create a deployment for this model by following the deploy instructions on the resource page for '{aoai_connection['properties']['target']}' in Azure Portal.\"\n",
    "        )"
   ]
  },
  {
   "cell_type": "markdown",
   "metadata": {},
   "source": [
    "Finally we will combine the deployment and model information into a uri form which the AzureML embeddings components expect as input."
   ]
  },
  {
   "cell_type": "code",
   "execution_count": 9,
   "metadata": {},
   "outputs": [],
   "source": [
    "aoai_embedding_deployment_name = \"text-embedding-ada-002-dply\"\n",
    "\n",
    "embeddings_model_uri = f\"azure_open_ai://deployment/{aoai_embedding_deployment_name}/model/{aoai_embedding_model_name}\""
   ]
  },
  {
   "cell_type": "code",
   "execution_count": 10,
   "metadata": {},
   "outputs": [
    {
     "name": "stdout",
     "output_type": "stream",
     "text": [
      "azure_open_ai://deployment/text-embedding-ada-002-dply/model/text-embedding-ada-002-dply\n"
     ]
    }
   ],
   "source": [
    "print(embeddings_model_uri)"
   ]
  },
  {
   "attachments": {},
   "cell_type": "markdown",
   "metadata": {},
   "source": [
    "## Setup Pipeline to process data into Index\n",
    "\n",
    "AzureML [Pipelines](https://learn.microsoft.com/azure/machine-learning/concept-ml-pipelines?view=azureml-api-2) connect together multiple [Components](https://learn.microsoft.com/azure/machine-learning/concept-component?view=azureml-api-2). Each Component defines inputs, code that consumes the inputs and outputs produced from the code. Pipelines themselves can have inputs, and outputs produced by connecting together individual sub Components.\n",
    "To process your data for embedding and indexing we will chain together multiple components each performing their own step of the workflow.\n",
    "\n",
    "The Components are published to a [Registry](https://learn.microsoft.com/azure/machine-learning/how-to-manage-registries?view=azureml-api-2&tabs=cli), `azureml`, which should have access to by default, it can be accessed from any Workspace.\n",
    "In the below cell we get the Component Definitions from the `azureml` registry."
   ]
  },
  {
   "cell_type": "code",
   "execution_count": 11,
   "metadata": {},
   "outputs": [],
   "source": [
    "ml_registry = MLClient(credential=credential, registry_name=\"azureml\")\n",
    "\n",
    "# Clones git repository to output folder of pipeline, by default this will be on the default Workspace Datastore `workspaceblobstore`\n",
    "git_clone_component = ml_registry.components.get(\"llm_rag_git_clone\", label=\"latest\")\n",
    "# Walks input folder according to provided glob pattern (all files by default: '**/*') and attempts to open them, extract text chunks and further chunk if necessary to fir within provided `chunk_size`.\n",
    "crack_and_chunk_component = ml_registry.components.get(\n",
    "    \"llm_rag_crack_and_chunk\", label=\"latest\"\n",
    ")\n",
    "# Reads input folder of files containing chunks and their metadata as batches, in parallel, and generates embeddings for each chunk. Output format is produced and loaded by `azureml.rag.embeddings.EmbeddingContainer`.\n",
    "generate_embeddings_component = ml_registry.components.get(\n",
    "    \"llm_rag_generate_embeddings\", label=\"latest\"\n",
    ")\n",
    "# Reads input folder produced by `azureml.rag.embeddings.EmbeddingsContainer.save()` and inserts all documents (chunk, metadata, embedding_vector) int a Faiss index and in-memory document store. Writes an MLIndex yaml detailing the index and embeddings model information.\n",
    "create_faiss_index_component = ml_registry.components.get(\n",
    "    \"llm_rag_create_faiss_index\", label=\"latest\"\n",
    ")\n",
    "# Takes a uri to a storage location where an MLIndex yaml is stored and registers it as an MLIndex Data asset in the AzureML Workspace.\n",
    "register_mlindex_component = ml_registry.components.get(\n",
    "    \"llm_rag_register_mlindex_asset\", label=\"latest\"\n",
    ")"
   ]
  },
  {
   "cell_type": "markdown",
   "metadata": {},
   "source": [
    "Each Component has documentation which provides an overall description of the Components purpose and each of the inputs/outputs.\n",
    "For example we can see understand what `crack_and_chunk` does by inspecting the Component definition."
   ]
  },
  {
   "cell_type": "code",
   "execution_count": 12,
   "metadata": {},
   "outputs": [
    {
     "name": "stdout",
     "output_type": "stream",
     "text": [
      "$schema: https://azuremlschemas.azureedge.net/latest/commandComponent.schema.json\n",
      "name: llm_rag_crack_and_chunk\n",
      "version: 0.0.39\n",
      "display_name: LLM - Crack and Chunk Data\n",
      "description: 'Creates chunks no larger than `chunk_size` from `input_data`, extracted\n",
      "  document titles are prepended to each chunk\n",
      "\n",
      "\n",
      "  LLM models have token limits for the prompts passed to them, this is a limiting\n",
      "  factor at embedding time and even more limiting at prompt completion time as only\n",
      "  so much context can be passed along with instructions to the LLM and user queries.\n",
      "\n",
      "  Chunking allows splitting source data of various formats into small but coherent\n",
      "  snippets of information which can be ''packed'' into LLM prompts when asking for\n",
      "  answers to user query related to the source documents.\n",
      "\n",
      "\n",
      "  Supported formats: md, txt, html/htm, pdf, ppt(x), doc(x), xls(x), py\n",
      "\n",
      "  '\n",
      "tags:\n",
      "  Preview: ''\n",
      "type: command\n",
      "inputs:\n",
      "  input_data:\n",
      "    type: uri_folder\n",
      "    description: Uri Folder containing files to be chunked.\n",
      "    optional: false\n",
      "  input_glob:\n",
      "    type: string\n",
      "    optional: true\n",
      "    description: Limit files opened from `input_data`, defaults to '**/*'.\n",
      "  allowed_extensions:\n",
      "    type: string\n",
      "    optional: true\n",
      "    description: Comma separated list of extensions to include, if not provided the\n",
      "      default list of supported extensions will be used. e.g. '.md,.txt,.html,.py,.pdf.'\n",
      "  chunk_size:\n",
      "    type: integer\n",
      "    optional: false\n",
      "    default: '768'\n",
      "    description: Maximum number of tokens to put in each chunk.\n",
      "  chunk_overlap:\n",
      "    type: integer\n",
      "    optional: false\n",
      "    default: '0'\n",
      "    description: Number of tokens to overlap between chunks.\n",
      "  doc_intel_connection_id:\n",
      "    type: string\n",
      "    optional: true\n",
      "    description: Connection id for Document Intelligence service. If provided, will\n",
      "      be used to extract content from .pdf document.\n",
      "  data_source_url:\n",
      "    type: string\n",
      "    optional: true\n",
      "    description: Base URL to join with file paths to create full source file URL for\n",
      "      chunk metadata.\n",
      "  document_path_replacement_regex:\n",
      "    type: string\n",
      "    optional: true\n",
      "    description: 'A JSON string with two fields, ''match_pattern'' and ''replacement_pattern''\n",
      "      to be used with re.sub on the source url. e.g. ''{\"match_pattern\": \"(.*)/articles/(.*)(\\\\.[^.]+)$\",\n",
      "      \"replacement_pattern\": \"\\\\1/\\\\2\"}'' would remove ''/articles'' from the middle\n",
      "      of the url.'\n",
      "  max_sample_files:\n",
      "    type: integer\n",
      "    optional: false\n",
      "    default: '-1'\n",
      "    description: Number of files to chunk. Specify -1 to chunk all documents in input\n",
      "      path.\n",
      "  use_rcts:\n",
      "    type: string\n",
      "    optional: false\n",
      "    default: 'True'\n",
      "    description: Whether to use RecursiveCharacterTextSplitter to split documents\n",
      "      into chunks\n",
      "    enum:\n",
      "    - 'True'\n",
      "    - 'False'\n",
      "  output_format:\n",
      "    type: string\n",
      "    optional: false\n",
      "    default: jsonl\n",
      "    description: Format of the output chunk file\n",
      "    enum:\n",
      "    - csv\n",
      "    - jsonl\n",
      "outputs:\n",
      "  output_chunks:\n",
      "    type: uri_folder\n",
      "    description: Uri Folder containing chunks. Each chunk will be a separate file\n",
      "      in the folder\n",
      "command: python -m azureml.rag.tasks.crack_and_chunk --input_data ${{inputs.input_data}}\n",
      "  $[[--input_glob '${{inputs.input_glob}}']] $[[--allowed_extensions ${{inputs.allowed_extensions}}]]\n",
      "  --output_chunks ${{outputs.output_chunks}} --chunk_size ${{inputs.chunk_size}} --chunk_overlap\n",
      "  ${{inputs.chunk_overlap}} $[[--doc_intel_connection_id ${{inputs.doc_intel_connection_id}}]]\n",
      "  $[[--data_source_url ${{inputs.data_source_url}}]] $[[--document_path_replacement_regex\n",
      "  '${{inputs.document_path_replacement_regex}}']] --max_sample_files ${{inputs.max_sample_files}}\n",
      "  --use_rcts '${{inputs.use_rcts}}' --output_format ${{inputs.output_format}}\n",
      "environment: azureml://registries/azureml/environments/llm-rag-embeddings/versions/27\n",
      "code: azureml://registries/azureml/codes/3b1daa95-1cd8-474f-8b0f-0c8c81f53a62/versions/1\n",
      "resources:\n",
      "  instance_count: 1\n",
      "creation_context:\n",
      "  created_at: '2023-11-08T22:03:42.725844+00:00'\n",
      "  created_by: Microsoft\n",
      "  created_by_type: User\n",
      "  last_modified_at: '2023-11-08T22:03:42.725844+00:00'\n",
      "  last_modified_by: Microsoft\n",
      "  last_modified_by_type: User\n",
      "id: azureml://registries/azureml/components/llm_rag_crack_and_chunk/versions/0.0.39\n",
      "is_deterministic: true\n",
      "\n"
     ]
    }
   ],
   "source": [
    "print(crack_and_chunk_component)"
   ]
  },
  {
   "cell_type": "markdown",
   "metadata": {},
   "source": [
    "Below a Pipeline is built by defining a python function which chains together the above components inputs and outputs. Arguments to the function are inputs to the Pipeline itself and the return value is a dictionary defining the outputs of the Pipeline."
   ]
  },
  {
   "cell_type": "code",
   "execution_count": 13,
   "metadata": {},
   "outputs": [],
   "source": [
    "from azure.ai.ml import Input, Output\n",
    "from azure.ai.ml.dsl import pipeline\n",
    "from azure.ai.ml.entities._job.pipeline._io import PipelineInput\n",
    "from typing import Optional\n",
    "\n",
    "\n",
    "#def use_automatic_compute(component, instance_count=1, instance_type=\"Standard_E8s_v3\"):\n",
    "def use_automatic_compute(component, instance_count=1, instance_type=\"Standard_DS12_v2\"):\n",
    "    \"\"\"Configure input `component` to use automatic compute with `instance_count` and `instance_type`.\n",
    "\n",
    "    This avoids the need to provision a compute cluster to run the component.\n",
    "    \"\"\"\n",
    "    component.set_resources(\n",
    "        instance_count=instance_count,\n",
    "        instance_type=instance_type,\n",
    "        properties={\"compute_specification\": {\"automatic\": True}},\n",
    "    )\n",
    "    return component\n",
    "\n",
    "\n",
    "def optional_pipeline_input_provided(input: Optional[PipelineInput]):\n",
    "    \"\"\"Checks if optional pipeline inputs are provided.\"\"\"\n",
    "    return input is not None and input._data is not None\n",
    "\n",
    "\n",
    "# If you have an existing compute cluster you want to use instead of automatic compute, uncomment the following line, replace `dedicated_cpu_compute` with the name of your cluster.\n",
    "# Also comment out the `component.set_resources` line in `use_automatic_compute` above and the `default_compute='serverless'` line below.\n",
    "# @pipeline(compute=dedicated_cpu_compute)\n",
    "@pipeline(default_compute=\"serverless\")\n",
    "def local_to_faiss(\n",
    "    input_data: Input,\n",
    "    embeddings_model: str,\n",
    "    asset_name: str,\n",
    "    #branch_name: str = None,\n",
    "    chunk_size: int = 1024,\n",
    "    data_source_glob: str = None,\n",
    "    data_source_url: str = None,\n",
    "    document_path_replacement_regex: str = None,\n",
    "    #git_connection_id=None,\n",
    "    aoai_connection_id=None,\n",
    "    embeddings_container=None,\n",
    "):\n",
    "    \"\"\"Pipeline to generate embeddings for a `input_data` source and create a Faiss index.\"\"\"\n",
    "\n",
    "\n",
    "    crack_and_chunk = crack_and_chunk_component(\n",
    "        input_data=input_data,\n",
    "        input_glob=data_source_glob,\n",
    "        chunk_size=1536,\n",
    "        data_source_url=data_source_url,\n",
    "        document_path_replacement_regex=document_path_replacement_regex,\n",
    "    )\n",
    "    use_automatic_compute(crack_and_chunk)\n",
    "\n",
    "    generate_embeddings = generate_embeddings_component(\n",
    "        chunks_source=crack_and_chunk.outputs.output_chunks,\n",
    "        embeddings_container=embeddings_container,\n",
    "        #embeddings_model=embeddings_model,\n",
    "        embeddings_model=embeddings_model_uri, \n",
    "    )\n",
    "    use_automatic_compute(generate_embeddings)\n",
    "    if optional_pipeline_input_provided(aoai_connection_id):\n",
    "        generate_embeddings.environment_variables[\n",
    "            \"AZUREML_WORKSPACE_CONNECTION_ID_AOAI\"\n",
    "        ] = aoai_connection_id\n",
    "    if optional_pipeline_input_provided(embeddings_container):\n",
    "        # If provided, `embeddings_container` is expected to be a URI to folder, the folder can be empty.\n",
    "        # Each sub-folder is generated by a `create_embeddings_component` run and can be reused for subsequent embeddings runs.\n",
    "        generate_embeddings.outputs.embeddings = Output(\n",
    "            type=\"uri_folder\", path=f\"{embeddings_container.path}/{{name}}\"\n",
    "        )\n",
    "\n",
    "    create_faiss_index = create_faiss_index_component(\n",
    "        embeddings=generate_embeddings.outputs.embeddings,\n",
    "    )\n",
    "    use_automatic_compute(create_faiss_index)\n",
    "\n",
    "    register_mlindex = register_mlindex_component(\n",
    "        storage_uri=create_faiss_index.outputs.index, asset_name=asset_name\n",
    "    )\n",
    "    use_automatic_compute(register_mlindex)\n",
    "    return {\n",
    "        \"mlindex_asset_uri\": create_faiss_index.outputs.index,\n",
    "        \"mlindex_asset_id\": register_mlindex.outputs.asset_id,\n",
    "    }"
   ]
  },
  {
   "cell_type": "markdown",
   "metadata": {},
   "source": [
    "Now we can create the Pipeline Job by calling the `@pipeline` annotated function and providing input arguments.\n",
    "`asset_name` will be used when registering the MLIndex Data Asset produced by the `register_mlindex` component in the pipeline. This is how you can refer to the MLIndex within AzureML.\n",
    "\n",
    "`crack_and_chunk` will infer the data_source_url if the input_data is a git repository. If you want to have source links your index that link to somewhere else, refer to how `data_source_url` is handled in [ACS MLIndex Notebook](../azure_cognitive_search/acs_mlindex_with_langchain.ipynb)."
   ]
  },
  {
   "cell_type": "code",
   "execution_count": 14,
   "metadata": {},
   "outputs": [],
   "source": [
    "asset_name = \"dental_faiss_mlindex\"\n",
    "#data_source_glob = \"src/**/*\"\n",
    "data_source_glob = \"**/contoso-dental.xls\""
   ]
  },
  {
   "cell_type": "code",
   "execution_count": 15,
   "metadata": {},
   "outputs": [],
   "source": [
    "from azure.ai.ml import Input\n",
    "from azure.ai.ml.constants import AssetTypes\n",
    "\n",
    "pipeline_job = local_to_faiss(\n",
    "    input_data=Input(\n",
    "        type=AssetTypes.URI_FOLDER, path=\"../data/\"\n",
    "    ),  # This will upload the data folder to the default Workspace Datastore `workspaceblobstore`\n",
    "    data_source_glob=data_source_glob,\n",
    "    data_source_url=my_data.path,\n",
    "    # Each run will save latest Embeddings to subfolder under this path, runs will load latest embeddings from container and reuse any unchanged chunk embeddings.\n",
    "    embeddings_model=embeddings_model_uri,\n",
    "    aoai_connection_id=aoai_connection_id,\n",
    "    embeddings_container=Input(\n",
    "        type=\"uri_folder\",\n",
    "        path=f\"azureml://datastores/workspaceblobstore/paths/embeddings/{asset_name}\",\n",
    "    ),\n",
    "    # Name of asset to register MLIndex under\n",
    "    asset_name=asset_name,\n",
    ")\n",
    "\n",
    "# By default AzureML Pipelines will reuse the output of previous component Runs when inputs have not changed.\n",
    "# If you want to rerun the Pipeline every time each time so that any changes to upstream data sources are processed uncomment the below line.\n",
    "# pipeline_job.settings.force_rerun = True # Rerun each time so that git_clone isn't cached, if intent is to ingest latest data."
   ]
  },
  {
   "cell_type": "markdown",
   "metadata": {},
   "source": [
    "Finally we add some properties to `pipeline_job` which ensure the Index generation progress and final Artifact appear in the PromptFlow Vector Index UI."
   ]
  },
  {
   "cell_type": "code",
   "execution_count": 16,
   "metadata": {},
   "outputs": [],
   "source": [
    "# These are added so that in progress index generations can be listed in UI, this tagging is done automatically by UI.\n",
    "pipeline_job.properties[\"azureml.mlIndexAssetName\"] = asset_name\n",
    "pipeline_job.properties[\"azureml.mlIndexAssetKind\"] = \"faiss\"\n",
    "pipeline_job.properties[\"azureml.mlIndexAssetSource\"] = \"Uri Folder\""
   ]
  },
  {
   "attachments": {},
   "cell_type": "markdown",
   "metadata": {},
   "source": [
    "## Submit Pipeline\n",
    "\n",
    "**In case of any errors see [TROUBLESHOOT.md](../../TROUBLESHOOT.md).**\n",
    "\n",
    "The output of each step in the pipeline can be inspected via the Workspace UI, click the link under 'Details Page' after running the below cell. "
   ]
  },
  {
   "cell_type": "code",
   "execution_count": 17,
   "metadata": {},
   "outputs": [
    {
     "name": "stderr",
     "output_type": "stream",
     "text": [
      "Class AutoDeleteSettingSchema: This is an experimental class, and may change at any time. Please see https://aka.ms/azuremlexperimental for more information.\n",
      "Class AutoDeleteConditionSchema: This is an experimental class, and may change at any time. Please see https://aka.ms/azuremlexperimental for more information.\n",
      "Class BaseAutoDeleteSettingSchema: This is an experimental class, and may change at any time. Please see https://aka.ms/azuremlexperimental for more information.\n",
      "Class IntellectualPropertySchema: This is an experimental class, and may change at any time. Please see https://aka.ms/azuremlexperimental for more information.\n",
      "Class ProtectionLevelSchema: This is an experimental class, and may change at any time. Please see https://aka.ms/azuremlexperimental for more information.\n",
      "Class BaseIntellectualPropertySchema: This is an experimental class, and may change at any time. Please see https://aka.ms/azuremlexperimental for more information.\n"
     ]
    },
    {
     "data": {
      "text/html": [
       "<table style=\"width:100%\"><tr><th>Experiment</th><th>Name</th><th>Type</th><th>Status</th><th>Details Page</th></tr><tr><td>local_to_faiss</td><td>happy_yak_wdzmczdy62</td><td>pipeline</td><td>Preparing</td><td><a href=\"https://ml.azure.com/runs/happy_yak_wdzmczdy62?wsid=/subscriptions/8a0f6419-1f4c-45b3-8d92-ee53be1ea443/resourcegroups/demoRG/workspaces/aml-ws&amp;tid=72f988bf-86f1-41af-91ab-2d7cd011db47\" target=\"_blank\" rel=\"noopener\">Link to Azure Machine Learning studio</a></td></tr></table>"
      ],
      "text/plain": [
       "PipelineJob({'inputs': {'input_data': <azure.ai.ml.entities._job.pipeline._io.base.PipelineInput object at 0x00000236FBB978B0>, 'embeddings_model': <azure.ai.ml.entities._job.pipeline._io.base.PipelineInput object at 0x00000236FBB978E0>, 'asset_name': <azure.ai.ml.entities._job.pipeline._io.base.PipelineInput object at 0x00000236FBB97910>, 'chunk_size': <azure.ai.ml.entities._job.pipeline._io.base.PipelineInput object at 0x00000236FBB97940>, 'data_source_glob': <azure.ai.ml.entities._job.pipeline._io.base.PipelineInput object at 0x00000236FBB97970>, 'data_source_url': <azure.ai.ml.entities._job.pipeline._io.base.PipelineInput object at 0x00000236FBB979A0>, 'aoai_connection_id': <azure.ai.ml.entities._job.pipeline._io.base.PipelineInput object at 0x00000236FBB979D0>, 'embeddings_container': <azure.ai.ml.entities._job.pipeline._io.base.PipelineInput object at 0x00000236FBB97A00>}, 'outputs': {'mlindex_asset_uri': <azure.ai.ml.entities._job.pipeline._io.base.PipelineOutput object at 0x00000236FBB97A30>, 'mlindex_asset_id': <azure.ai.ml.entities._job.pipeline._io.base.PipelineOutput object at 0x00000236FBB97A60>}, 'jobs': {}, 'component': PipelineComponent({'intellectual_property': None, 'auto_increment_version': False, 'source': 'REMOTE.WORKSPACE.JOB', 'is_anonymous': True, 'auto_delete_setting': None, 'name': 'azureml_anonymous', 'description': 'Pipeline to generate embeddings for a `input_data` source and create a Faiss index.', 'tags': {}, 'properties': {}, 'print_as_yaml': True, 'id': None, 'Resource__source_path': None, 'base_path': 'c:\\\\Users\\\\ruyakubu\\\\temp\\\\test-pf-vscode\\\\askChat\\\\src', 'creation_context': None, 'serialize': <msrest.serialization.Serializer object at 0x00000236FBB97460>, 'version': '1', 'latest_version': None, 'schema': None, 'type': 'pipeline', 'display_name': 'local_to_faiss', 'is_deterministic': None, 'inputs': {'input_data': {}, 'embeddings_model': {}, 'asset_name': {}, 'chunk_size': {}, 'data_source_glob': {}, 'data_source_url': {}, 'aoai_connection_id': {}, 'embeddings_container': {}}, 'outputs': {'mlindex_asset_uri': {}, 'mlindex_asset_id': {}}, 'yaml_str': None, 'other_parameter': {}, 'jobs': {'crack_and_chunk': Command({'parameters': {}, 'init': False, 'name': 'crack_and_chunk', 'type': 'command', 'status': None, 'log_files': None, 'description': None, 'tags': {}, 'properties': {}, 'print_as_yaml': True, 'id': None, 'Resource__source_path': None, 'base_path': 'c:\\\\Users\\\\ruyakubu\\\\temp\\\\test-pf-vscode\\\\askChat\\\\src', 'creation_context': None, 'serialize': <msrest.serialization.Serializer object at 0x00000236FBB6BC70>, 'allowed_keys': {}, 'key_restriction': False, 'logger': <TraceLogger attr_dict (WARNING)>, 'display_name': None, 'experiment_name': None, 'compute': None, 'services': None, 'comment': None, 'job_inputs': {'chunk_size': '1536', 'input_data': '${{parent.inputs.input_data}}', 'input_glob': '${{parent.inputs.data_source_glob}}', 'data_source_url': '${{parent.inputs.data_source_url}}', 'document_path_replacement_regex': '${{parent.inputs.document_path_replacement_regex}}'}, 'job_outputs': {}, 'inputs': {'chunk_size': <azure.ai.ml.entities._job.pipeline._io.base.NodeInput object at 0x00000236FBB6B910>, 'input_data': <azure.ai.ml.entities._job.pipeline._io.base.NodeInput object at 0x00000236FBB6BB50>, 'input_glob': <azure.ai.ml.entities._job.pipeline._io.base.NodeInput object at 0x00000236FBB6BA60>, 'data_source_url': <azure.ai.ml.entities._job.pipeline._io.base.NodeInput object at 0x00000236FBB6BCD0>, 'document_path_replacement_regex': <azure.ai.ml.entities._job.pipeline._io.base.NodeInput object at 0x00000236FBB6BB20>}, 'outputs': {}, 'component': 'azureml://registries/azureml/components/llm_rag_crack_and_chunk/versions/0.0.39', 'referenced_control_flow_node_instance_id': None, 'kwargs': {'services': None}, 'instance_id': 'e16d0ccf-f47f-4fa2-937e-9202055c80a4', 'source': 'REMOTE.REGISTRY', 'validate_required_input_not_provided': True, 'limits': None, 'identity': None, 'distribution': None, 'environment_variables': {}, 'environment': None, 'resources': {'instance_count': 1, 'instance_type': 'Standard_DS12_v2'}, 'queue_settings': None, 'swept': False}), 'generate_embeddings': Command({'parameters': {}, 'init': False, 'name': 'generate_embeddings', 'type': 'command', 'status': None, 'log_files': None, 'description': None, 'tags': {}, 'properties': {}, 'print_as_yaml': True, 'id': None, 'Resource__source_path': None, 'base_path': 'c:\\\\Users\\\\ruyakubu\\\\temp\\\\test-pf-vscode\\\\askChat\\\\src', 'creation_context': None, 'serialize': <msrest.serialization.Serializer object at 0x00000236FBB6B940>, 'allowed_keys': {}, 'key_restriction': False, 'logger': <TraceLogger attr_dict (WARNING)>, 'display_name': None, 'experiment_name': None, 'compute': None, 'services': None, 'comment': None, 'job_inputs': {'embeddings_model': 'azure_open_ai://deployment/text-embedding-ada-002-dply/model/text-embedding-ada-002-dply', 'chunks_source': '${{parent.jobs.crack_and_chunk.outputs.output_chunks}}', 'embeddings_container': '${{parent.inputs.embeddings_container}}'}, 'job_outputs': {'embeddings': {'type': 'uri_folder', 'path': 'azureml://datastores/workspaceblobstore/paths/embeddings/dental_faiss_mlindex/{name}'}}, 'inputs': {'embeddings_model': <azure.ai.ml.entities._job.pipeline._io.base.NodeInput object at 0x00000236FBB6B9D0>, 'chunks_source': <azure.ai.ml.entities._job.pipeline._io.base.NodeInput object at 0x00000236FBB6BD60>, 'embeddings_container': <azure.ai.ml.entities._job.pipeline._io.base.NodeInput object at 0x00000236FBB6BAF0>}, 'outputs': {'embeddings': <azure.ai.ml.entities._job.pipeline._io.base.NodeOutput object at 0x00000236FBB6BD30>}, 'component': 'azureml://registries/azureml/components/llm_rag_generate_embeddings/versions/0.0.33', 'referenced_control_flow_node_instance_id': None, 'kwargs': {'services': None}, 'instance_id': 'ecba2c92-5546-4131-99ec-d55679a706a6', 'source': 'REMOTE.REGISTRY', 'validate_required_input_not_provided': True, 'limits': None, 'identity': None, 'distribution': None, 'environment_variables': {'AZUREML_WORKSPACE_CONNECTION_ID_AOAI': '${{parent.inputs.aoai_connection_id}}'}, 'environment': None, 'resources': {'instance_count': 1, 'instance_type': 'Standard_DS12_v2'}, 'queue_settings': None, 'swept': False}), 'create_faiss_index': Command({'parameters': {}, 'init': False, 'name': 'create_faiss_index', 'type': 'command', 'status': None, 'log_files': None, 'description': None, 'tags': {}, 'properties': {}, 'print_as_yaml': True, 'id': None, 'Resource__source_path': None, 'base_path': 'c:\\\\Users\\\\ruyakubu\\\\temp\\\\test-pf-vscode\\\\askChat\\\\src', 'creation_context': None, 'serialize': <msrest.serialization.Serializer object at 0x00000236FBB6BBB0>, 'allowed_keys': {}, 'key_restriction': False, 'logger': <TraceLogger attr_dict (WARNING)>, 'display_name': None, 'experiment_name': None, 'compute': None, 'services': None, 'comment': None, 'job_inputs': {'embeddings': '${{parent.jobs.generate_embeddings.outputs.embeddings}}'}, 'job_outputs': {'index': '${{parent.outputs.mlindex_asset_uri}}'}, 'inputs': {'embeddings': <azure.ai.ml.entities._job.pipeline._io.base.NodeInput object at 0x00000236FBB974C0>}, 'outputs': {'index': <azure.ai.ml.entities._job.pipeline._io.base.NodeOutput object at 0x00000236FBB97400>}, 'component': 'azureml://registries/azureml/components/llm_rag_create_faiss_index/versions/0.0.38', 'referenced_control_flow_node_instance_id': None, 'kwargs': {'services': None}, 'instance_id': '0308703c-3d4c-41c5-be3c-190279022aa9', 'source': 'REMOTE.REGISTRY', 'validate_required_input_not_provided': True, 'limits': None, 'identity': None, 'distribution': None, 'environment_variables': {}, 'environment': None, 'resources': {'instance_count': 1, 'instance_type': 'Standard_DS12_v2'}, 'queue_settings': None, 'swept': False}), 'register_mlindex': Command({'parameters': {}, 'init': False, 'name': 'register_mlindex', 'type': 'command', 'status': None, 'log_files': None, 'description': None, 'tags': {}, 'properties': {}, 'print_as_yaml': True, 'id': None, 'Resource__source_path': None, 'base_path': 'c:\\\\Users\\\\ruyakubu\\\\temp\\\\test-pf-vscode\\\\askChat\\\\src', 'creation_context': None, 'serialize': <msrest.serialization.Serializer object at 0x00000236FBB97370>, 'allowed_keys': {}, 'key_restriction': False, 'logger': <TraceLogger attr_dict (WARNING)>, 'display_name': None, 'experiment_name': None, 'compute': None, 'services': None, 'comment': None, 'job_inputs': {'storage_uri': '${{parent.jobs.create_faiss_index.outputs.index}}', 'asset_name': '${{parent.inputs.asset_name}}'}, 'job_outputs': {'asset_id': '${{parent.outputs.mlindex_asset_id}}'}, 'inputs': {'storage_uri': <azure.ai.ml.entities._job.pipeline._io.base.NodeInput object at 0x00000236FBB97430>, 'asset_name': <azure.ai.ml.entities._job.pipeline._io.base.NodeInput object at 0x00000236FBB97490>}, 'outputs': {'asset_id': <azure.ai.ml.entities._job.pipeline._io.base.NodeOutput object at 0x00000236FBB973A0>}, 'component': 'azureml://registries/azureml/components/llm_rag_register_mlindex_asset/versions/0.0.37', 'referenced_control_flow_node_instance_id': None, 'kwargs': {'services': None}, 'instance_id': 'f53b3e6f-9d44-4b4e-8bc9-d3f388492461', 'source': 'REMOTE.REGISTRY', 'validate_required_input_not_provided': True, 'limits': None, 'identity': None, 'distribution': None, 'environment_variables': {}, 'environment': None, 'resources': {'instance_count': 1, 'instance_type': 'Standard_DS12_v2'}, 'queue_settings': None, 'swept': False})}, 'job_types': {'command': 4}, 'job_sources': {'REMOTE.REGISTRY': 4}, 'source_job_id': None}), 'type': 'pipeline', 'status': 'Preparing', 'log_files': None, 'name': 'happy_yak_wdzmczdy62', 'description': 'Pipeline to generate embeddings for a `input_data` source and create a Faiss index.', 'tags': {}, 'properties': {'azureml.mlIndexAssetName': 'dental_faiss_mlindex', 'azureml.mlIndexAssetKind': 'faiss', 'azureml.mlIndexAssetSource': 'Uri Folder', 'mlflow.source.git.repoURL': 'https://github.com/ruyakubu/azure-prompt-flow.git', 'mlflow.source.git.branch': 'main', 'mlflow.source.git.commit': 'e297dd5a20b724cc592e874d75f46488ca963a74', 'azureml.git.dirty': 'True', 'azureml.DevPlatv2': 'true', 'azureml.DatasetAccessMode': 'Asset', 'azureml.runsource': 'azureml.PipelineRun', 'runSource': 'MFE', 'runType': 'HTTP', 'azureml.parameters': '{\"embeddings_model\":\"azure_open_ai://deployment/text-embedding-ada-002-dply/model/text-embedding-ada-002-dply\",\"asset_name\":\"dental_faiss_mlindex\",\"chunk_size\":\"1024\",\"data_source_glob\":\"**/contoso-dental.xls\",\"data_source_url\":\"azureml://datastores/workspaceblobstore/paths/LocalUpload/6516c59437bcbd1c72edb15af13f23e2/contoso-dental.xls\",\"aoai_connection_id\":\"/subscriptions/8a0f6419-1f4c-45b3-8d92-ee53be1ea443/resourceGroups/demoRG/providers/Microsoft.MachineLearningServices/workspaces/aml-ws/connections/AzureOpenAI-srv\",\"document_path_replacement_regex\":\"\"}', 'azureml.continue_on_step_failure': 'True', 'azureml.continue_on_failed_optional_input': 'True', 'azureml.enforceRerun': 'False', 'azureml.defaultComputeName': 'serverless', 'azureml.defaultDataStoreName': 'workspaceblobstore', 'azureml.pipelineComponent': 'pipelinerun'}, 'print_as_yaml': True, 'id': '/subscriptions/8a0f6419-1f4c-45b3-8d92-ee53be1ea443/resourceGroups/demoRG/providers/Microsoft.MachineLearningServices/workspaces/aml-ws/jobs/happy_yak_wdzmczdy62', 'Resource__source_path': None, 'base_path': 'c:\\\\Users\\\\ruyakubu\\\\temp\\\\test-pf-vscode\\\\askChat\\\\src', 'creation_context': <azure.ai.ml.entities._system_data.SystemData object at 0x00000236FBB977C0>, 'serialize': <msrest.serialization.Serializer object at 0x00000236FBB97AC0>, 'display_name': 'local_to_faiss', 'experiment_name': 'local_to_faiss', 'compute': None, 'services': {'Tracking': {'endpoint': 'azureml://eastus.api.azureml.ms/mlflow/v1.0/subscriptions/8a0f6419-1f4c-45b3-8d92-ee53be1ea443/resourceGroups/demoRG/providers/Microsoft.MachineLearningServices/workspaces/aml-ws?', 'type': 'Tracking'}, 'Studio': {'endpoint': 'https://ml.azure.com/runs/happy_yak_wdzmczdy62?wsid=/subscriptions/8a0f6419-1f4c-45b3-8d92-ee53be1ea443/resourcegroups/demoRG/workspaces/aml-ws&tid=72f988bf-86f1-41af-91ab-2d7cd011db47', 'type': 'Studio'}}, 'settings': {}, 'identity': None, 'default_code': None, 'default_environment': None})"
      ]
     },
     "execution_count": 17,
     "metadata": {},
     "output_type": "execute_result"
    }
   ],
   "source": [
    "running_pipeline_job = ml_client.jobs.create_or_update(\n",
    "    pipeline_job, experiment_name=\"local_to_faiss\"\n",
    ")\n",
    "running_pipeline_job"
   ]
  },
  {
   "cell_type": "code",
   "execution_count": 18,
   "metadata": {},
   "outputs": [
    {
     "name": "stdout",
     "output_type": "stream",
     "text": [
      "RunId: happy_yak_wdzmczdy62\n",
      "Web View: https://ml.azure.com/runs/happy_yak_wdzmczdy62?wsid=/subscriptions/8a0f6419-1f4c-45b3-8d92-ee53be1ea443/resourcegroups/demoRG/workspaces/aml-ws\n",
      "\n",
      "Streaming logs/azureml/executionlogs.txt\n",
      "========================================\n",
      "\n",
      "[2023-11-10 00:10:02Z] Submitting 1 runs, first five are: 3d57dce6:b14f8db0-34b6-45ef-9777-ae0dbc09d374\n",
      "[2023-11-10 00:17:38Z] Completing processing run id b14f8db0-34b6-45ef-9777-ae0dbc09d374.\n",
      "[2023-11-10 00:17:38Z] Submitting 1 runs, first five are: aea9ba92:d7782a7b-ef2e-46ee-b457-529da69d089f\n",
      "[2023-11-10 00:18:43Z] Completing processing run id d7782a7b-ef2e-46ee-b457-529da69d089f.\n",
      "[2023-11-10 00:18:44Z] Submitting 1 runs, first five are: 8e90ebd4:d02a6634-c287-4a1d-ad6a-a21c1e17dd5d\n",
      "[2023-11-10 00:19:47Z] Completing processing run id d02a6634-c287-4a1d-ad6a-a21c1e17dd5d.\n",
      "[2023-11-10 00:19:47Z] Submitting 1 runs, first five are: 64e8bedb:c8dc52ae-fcd5-4887-9c46-f0f269fc804a\n",
      "[2023-11-10 00:20:37Z] Completing processing run id c8dc52ae-fcd5-4887-9c46-f0f269fc804a.\n",
      "\n",
      "Execution Summary\n",
      "=================\n",
      "RunId: happy_yak_wdzmczdy62\n",
      "Web View: https://ml.azure.com/runs/happy_yak_wdzmczdy62?wsid=/subscriptions/8a0f6419-1f4c-45b3-8d92-ee53be1ea443/resourcegroups/demoRG/workspaces/aml-ws\n",
      "\n"
     ]
    }
   ],
   "source": [
    "ml_client.jobs.stream(running_pipeline_job.name)"
   ]
  },
  {
   "cell_type": "markdown",
   "metadata": {},
   "source": [
    "## Use MLIndex with PromptFlow\n",
    "\n",
    "To use the MLindex in PromptFlow the asset_id can be used with the `Vector Index Lookup​` Tool. Replace `versions/2` with `versions/latest` to use the latest version."
   ]
  },
  {
   "cell_type": "code",
   "execution_count": 19,
   "metadata": {},
   "outputs": [
    {
     "name": "stdout",
     "output_type": "stream",
     "text": [
      "azureml://subscriptions/8a0f6419-1f4c-45b3-8d92-ee53be1ea443/resourceGroups/demoRG/providers/Microsoft.MachineLearningServices/workspaces/aml-ws/data/dental_faiss_mlindex/versions/7\n"
     ]
    }
   ],
   "source": [
    "asset_id = f\"azureml:/{ml_client.data.get(asset_name, label='latest').id}\"\n",
    "print(asset_id)"
   ]
  },
  {
   "cell_type": "code",
   "execution_count": 20,
   "metadata": {},
   "outputs": [
    {
     "name": "stdout",
     "output_type": "stream",
     "text": [
      "azureml://subscriptions/8a0f6419-1f4c-45b3-8d92-ee53be1ea443/resourceGroups/demoRG/providers/Microsoft.MachineLearningServices/workspaces/aml-ws/data/dental_faiss_mlindex/versions/7\n"
     ]
    },
    {
     "data": {
      "text/plain": [
       "'azureml://subscriptions/8a0f6419-1f4c-45b3-8d92-ee53be1ea443/resourcegroups/demoRG/providers/Microsoft.MachineLearningServices/workspaces/aml-ws/data/dental_faiss_mlindex/versions/7'"
      ]
     },
     "execution_count": 20,
     "metadata": {},
     "output_type": "execute_result"
    }
   ],
   "source": [
    "asset_id = f\"azureml:/{ml_client.data.get(asset_name, label='latest').id}\"\n",
    "print(asset_id)\n",
    "\n",
    "asset_id.replace(\"resourceGroups\", \"resourcegroups\")"
   ]
  },
  {
   "cell_type": "markdown",
   "metadata": {},
   "source": []
  }
 ],
 "metadata": {
  "kernelspec": {
   "display_name": "Python 3 (ipykernel)",
   "language": "python",
   "name": "python3"
  },
  "language_info": {
   "codemirror_mode": {
    "name": "ipython",
    "version": 3
   },
   "file_extension": ".py",
   "mimetype": "text/x-python",
   "name": "python",
   "nbconvert_exporter": "python",
   "pygments_lexer": "ipython3",
   "version": "3.8.10"
  }
 },
 "nbformat": 4,
 "nbformat_minor": 2
}
